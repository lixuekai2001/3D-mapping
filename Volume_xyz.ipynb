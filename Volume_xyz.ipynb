{
 "cells": [
  {
   "cell_type": "code",
   "execution_count": null,
   "id": "e167a33c-fe1d-471d-be68-979a26368909",
   "metadata": {},
   "outputs": [],
   "source": [
    "import matplotlib.pyplot as plt\n",
    "import numpy as np\n",
    "import plotly.graph_objects as go"
   ]
  },
  {
   "cell_type": "code",
   "execution_count": null,
   "id": "bde7cf3f-cec7-4dc5-907e-4b3969d8b28c",
   "metadata": {},
   "outputs": [],
   "source": [
    "\n",
    "\n",
    "# Define the matrices\n",
    "X = np.array([[0, 1, 1, 2, 2],\n",
    "              [3, 3, 4, 4, 5],\n",
    "              [5, 6, 6, 7, 7]])\n",
    "\n",
    "Y = np.array([[0, 1, 1, 2],\n",
    "              [2, 3, 3, 4],\n",
    "              [4, 5, 5, 6]])\n",
    "\n",
    "Z = np.array([[ 2,  5,  7, 10],\n",
    "              [ 2,  4,  7,  9],\n",
    "              [ 1,  4,  6,  9],\n",
    "              [ 1,  3,  6,  8],\n",
    "              [ 0,  3,  5,  8]])\n",
    "\n",
    "# Put them into a dictionary\n",
    "a = {'X': X, 'Y': Y, 'Z': Z}\n",
    "\n",
    "a"
   ]
  },
  {
   "cell_type": "code",
   "execution_count": null,
   "id": "1f1be967-5ff3-4fdc-a725-d48a748be392",
   "metadata": {},
   "outputs": [],
   "source": [
    "# this function is for the dict type matrix: a\n",
    "def v3_cal(a):\n",
    "    # get the size of the matrix a: n_x,n_y,n_z\n",
    "    n_x = a[list(a)[2]].shape[1]\n",
    "    n_y = a[list(a)[2]].shape[0]\n",
    "    n_z = a[list(a)[0]].shape[0]\n",
    "    volumes = np.zeros((n_x, n_y, n_z))\n",
    "    a_z = np.rot90(a[list(a)[2]], k=-1) # k= -1 顺时针旋转90度。\n",
    "    for i in range(n_x):\n",
    "        for j in range(n_z):\n",
    "            for k in range(n_y):\n",
    "                volumes[i, k, j] = (a[list(a)[0]][j, k] + a[list(a)[1]][j, i] + a_z[i, k])/3\n",
    "    avg = volumes.mean()\n",
    "    v1 = np.flip(volumes)\n",
    "    v2 = np.fliplr(v1)\n",
    "    v3 = np.flipud(v2)\n",
    "    return v3,avg"
   ]
  },
  {
   "cell_type": "code",
   "execution_count": null,
   "id": "b77f31f8-6efa-4385-86e1-0d4a3657cb44",
   "metadata": {},
   "outputs": [],
   "source": [
    "v3,avg = v3_cal(a)\n",
    "np.shape(v3)"
   ]
  },
  {
   "cell_type": "code",
   "execution_count": null,
   "id": "408be0f3-4fab-4d65-b708-5149716b971a",
   "metadata": {},
   "outputs": [],
   "source": [
    "def plot2D_simple(X):\n",
    "    ax = plt.gca()\n",
    "    im1 = ax.imshow(X, aspect='equal',cmap='plasma_r', interpolation='nearest')\n",
    "    # for i in range(X.shape[0]):\n",
    "    #     for j in range(X.shape[1]):\n",
    "    #         plt.text(j, i, f\"{X[i, j]:.2f}\", ha='center', va='center', color='k')\n",
    "            \n",
    "def plot2D_3_simple(a):\n",
    "    fig, axs = plt.subplots(1, 3, figsize=(18, 8),dpi=300)\n",
    "    plt.sca(axs[0])\n",
    "    plot2D_simple(a[list(a)[0]])\n",
    "    plt.title(\"X\")\n",
    "    plt.sca(axs[1])\n",
    "    plot2D_simple(a[list(a)[1]])\n",
    "    plt.title(\"Y\")\n",
    "    plt.sca(axs[2])\n",
    "    plot2D_simple(a[list(a)[2]])\n",
    "    plt.title(\"Z\")\n",
    "\n",
    "def plot2D(X):\n",
    "    ax = plt.gca()\n",
    "    im1 = ax.imshow(X, aspect='equal',cmap='plasma_r', interpolation='nearest')\n",
    "\n",
    "def plot2D_3(a):\n",
    "    fig, axs = plt.subplots(1, 3, figsize=(18, 8),dpi=300)\n",
    "    plt.sca(axs[0])\n",
    "    plot2D(a[0])\n",
    "    plt.title(\"X\")\n",
    "    plt.sca(axs[1])\n",
    "    plot2D(a[1])\n",
    "    plt.title(\"Y\")\n",
    "    plt.sca(axs[2])\n",
    "    plot2D(a[2])\n",
    "    plt.title(\"Z\")\n",
    "plot2D_3_simple(a)"
   ]
  },
  {
   "cell_type": "code",
   "execution_count": null,
   "id": "ce167f3d-ab9e-4441-acc0-e98cf3037d97",
   "metadata": {},
   "outputs": [],
   "source": [
    "def volume3D(matrix,data_name,sample_name,colorbar_unit,df_avg):\n",
    "    x, y, z = np.indices(matrix.shape)\n",
    "    fig = go.Figure(data=go.Isosurface(\n",
    "        x=x.flatten(),\n",
    "        y=y.flatten(),\n",
    "        z=z.flatten(),\n",
    "        value=matrix.flatten(),\n",
    "        isomin=matrix.min(),\n",
    "        isomax=matrix.max(),\n",
    "        colorscale='plasma_r',\n",
    "        colorbar=dict(\n",
    "            title=colorbar_unit,\n",
    "            x=1,  # Set the x position of the color bar\n",
    "            y=0.5,  # Set the y position of the color bar\n",
    "            len=0.75,  # Set the length of the color bar\n",
    "            thickness=20,  # Set the thickness of the color bar\n",
    "            orientation='v'  # Set the orientation of the color bar\n",
    "        ),\n",
    "    ))\n",
    "    fig.update_layout(\n",
    "        title= sample_name+\" \"+data_name+\"_avg = \"+str(round(df_avg,2))+colorbar_unit,\n",
    "        width=800,\n",
    "        height=800,\n",
    "        scene=dict(\n",
    "        xaxis_title='X',\n",
    "        yaxis_title='Y',\n",
    "        zaxis_title='Z')\n",
    "    )\n",
    "            \n",
    "        \n",
    "    name = 'eye = (x:2, y:2, z:2)'\n",
    "    camera = dict(eye=dict(x=1.2,y=-2,z=0.8))\n",
    "    fig.update_layout(scene_camera=camera)\n",
    "    # pio.write_image(fig, \"Results/\"+sample_name+\"_\"+data_name+'_3D.png',scale = 3)\n",
    "    fig.show()"
   ]
  },
  {
   "cell_type": "code",
   "execution_count": null,
   "id": "e4679ce7-8c73-4622-8305-15d3519577d6",
   "metadata": {},
   "outputs": [],
   "source": [
    "volume3D(v3,\"data\",\"sample\",\"unit\",avg)"
   ]
  },
  {
   "cell_type": "markdown",
   "id": "aa86cbdd-37af-4d8a-85b2-77257d3784ea",
   "metadata": {},
   "source": [
    "#  Create a pseudo 3x3x3 matrix and interpolate it to be Lx, Ly, Lz"
   ]
  },
  {
   "cell_type": "code",
   "execution_count": null,
   "id": "0f08111a-1a3b-4475-ab5c-a42ba59cdf81",
   "metadata": {},
   "outputs": [],
   "source": [
    "import os, sys\n",
    "ROOT_DIR = os.path.abspath(os.getcwd())\n",
    "sys.path.append(ROOT_DIR)  \n",
    "from coalpro import utils\n",
    "from coalpro import visualize"
   ]
  },
  {
   "cell_type": "code",
   "execution_count": null,
   "id": "d5abdb5f-0cba-4271-abde-6221e1bad938",
   "metadata": {},
   "outputs": [],
   "source": [
    "def volume_data_xyz(E_2D,Lx,Ly,Lz,method):\n",
    "    E = []\n",
    "    for selected_face in ['X','Y','Z']:\n",
    "        grid_x, grid_y, grid_2d = utils.matrix_interpo_xyz(E_2D, Lx, Ly, Lz, selected_face ,method)\n",
    "        E.append(grid_2d)\n",
    "        \n",
    "    n_x = E[2].shape[1]\n",
    "    n_y = E[2].shape[0]\n",
    "    n_z = E[0].shape[0]\n",
    "    volumes = np.zeros((n_x, n_y, n_z))\n",
    "    \n",
    "    E_z = np.rot90(E[2], k=-1) # k= -1 顺时针旋转90度。\n",
    "    for i in range(n_x):\n",
    "        for j in range(n_z):\n",
    "            for k in range(n_y):\n",
    "                volumes[i, k, j] = (E[0][j, k] + E[1][j, i] + E_z[i, k])/3\n",
    "    avg = round(volumes.mean(),2)\n",
    "    print(\"Average Volume:\", avg)\n",
    "    E1 = np.flip(volumes)\n",
    "    E2 = np.fliplr(E1)\n",
    "    E3 = np.flipud(E2)\n",
    "    return E,E3, avg"
   ]
  },
  {
   "cell_type": "code",
   "execution_count": null,
   "id": "066f8f55-3c25-4f15-a46c-1f9dbdd90975",
   "metadata": {},
   "outputs": [],
   "source": [
    "# Define the matrices\n",
    "Ex = np.array([[0, 1, 2],\n",
    "              [3, 4, 5],\n",
    "              [6, 7, 8]])\n",
    "Ey = Ex\n",
    "Ez = np.array([[ 2,  5,  8],\n",
    "              [ 1,  4,  7],\n",
    "              [ 0,  3,  6]])\n",
    "# Put them into a dictionary\n",
    "E2D = np.stack((Ex, Ey, Ez), axis=0)\n",
    "E2D\n",
    "# Put them into a dictionary\n",
    "E2D_dict= {'X': Ex, 'Y': Ey, 'Z': Ez}\n",
    "\n",
    "E2D_dict"
   ]
  },
  {
   "cell_type": "code",
   "execution_count": null,
   "id": "13c47e71-ae26-4dc4-b849-8c02b95ad713",
   "metadata": {},
   "outputs": [],
   "source": [
    "E2D"
   ]
  },
  {
   "cell_type": "code",
   "execution_count": null,
   "id": "57e65aaf-70ef-4dd2-9a0c-eb8cd0ae1dfd",
   "metadata": {
    "scrolled": true
   },
   "outputs": [],
   "source": [
    "Ev3,Eavg = v3_cal(E2D_dict)\n",
    "# every sub cube multiple each other"
   ]
  },
  {
   "cell_type": "code",
   "execution_count": null,
   "id": "f6122c10-0f26-4412-b313-49921b519404",
   "metadata": {},
   "outputs": [],
   "source": [
    "Lx = 40\n",
    "Ly = 50\n",
    "Lz = 30\n",
    "method ='rbf'\n",
    "E,E3, avg = volume_data_xyz(E2D,Lx,Ly,Lz,method)"
   ]
  },
  {
   "cell_type": "code",
   "execution_count": null,
   "id": "8d9e0f66-99ff-49f7-acb7-829ace2f0f78",
   "metadata": {},
   "outputs": [],
   "source": [
    "plot2D_3_simple(E2D_dict)\n",
    "plot2D_3(E)\n"
   ]
  },
  {
   "cell_type": "code",
   "execution_count": null,
   "id": "6a23db87-54cb-49cd-8f6a-988131dc2ec1",
   "metadata": {},
   "outputs": [],
   "source": [
    "volume3D(Ev3,\"data\",\"sample\",\"unit\",Eavg)\n",
    "volume3D(E3,\"data\",\"sample\",\"unit\",avg)"
   ]
  },
  {
   "cell_type": "code",
   "execution_count": null,
   "id": "2ad4ab83-d90a-40a8-ba23-e99529de1e94",
   "metadata": {},
   "outputs": [],
   "source": []
  }
 ],
 "metadata": {
  "kernelspec": {
   "display_name": "Python 3 (ipykernel)",
   "language": "python",
   "name": "python3"
  },
  "language_info": {
   "codemirror_mode": {
    "name": "ipython",
    "version": 3
   },
   "file_extension": ".py",
   "mimetype": "text/x-python",
   "name": "python",
   "nbconvert_exporter": "python",
   "pygments_lexer": "ipython3",
   "version": "3.10.13"
  }
 },
 "nbformat": 4,
 "nbformat_minor": 5
}
